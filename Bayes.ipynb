{
  "nbformat": 4,
  "nbformat_minor": 0,
  "metadata": {
    "colab": {
      "name": "Bayes.ipynb",
      "version": "0.3.2",
      "provenance": [],
      "collapsed_sections": [],
      "include_colab_link": true
    },
    "kernelspec": {
      "name": "python3",
      "display_name": "Python 3"
    }
  },
  "cells": [
    {
      "cell_type": "markdown",
      "metadata": {
        "id": "view-in-github",
        "colab_type": "text"
      },
      "source": [
        "<a href=\"https://colab.research.google.com/github/fehimeyigit/Bayes/blob/master/Bayes.ipynb\" target=\"_parent\"><img src=\"https://colab.research.google.com/assets/colab-badge.svg\" alt=\"Open In Colab\"/></a>"
      ]
    },
    {
      "metadata": {
        "id": "V8HCqJ_HZw4X",
        "colab_type": "text"
      },
      "cell_type": "markdown",
      "source": [
        "Cıvata üretilen bir fabrikada toplam üretimin %30’u A, %30’u B, %40’ı C makineleri tarafından\n",
        "yapılmaktadır. Bu makinelerin sırasıyla üretimlerinin %1’i, %3’ü ve %2’si kusurlu civatalardır. Bir\n",
        "günlük üretim sonunda bir cıvata seçiliyor ve kusurlu olduğu görülüyor. Bu civatanın A makinesi, B\n",
        "makinesi, C makinesinde üretilmiş olması olasılığı nedir? "
      ]
    },
    {
      "metadata": {
        "id": "sqMfBE3kZ3ij",
        "colab_type": "code",
        "colab": {}
      },
      "cell_type": "code",
      "source": [
        "#E: Kusurlu cıvata\n",
        "#A: Cıvata A makinesinde yapıldı.\n",
        "#B: Cıvata B makinesinde yapıldı.\n",
        "#C: Cıvata C makinesinde yapıldı. \n",
        "A=30\n",
        "B=30\n",
        "C=40\n",
        "E_A=1\n",
        "E_B=3\n",
        "E_C=2\n",
        "\n",
        "tum=100\n",
        "\n",
        "P_A=A/tum\n",
        "\n",
        "P_EA= E_A/tum\n",
        "\n",
        "P_B=B/tum\n",
        "\n",
        "P_EB= E_B/tum\n",
        "\n",
        "P_C=C/tum\n",
        "\n",
        "P_EC= E_C/tum\n",
        "\n",
        "\n",
        "\n",
        "P_AE=P_A*P_EA\n",
        "P_BE=P_B*P_EB\n",
        "P_CE=P_C*P_EC\n",
        "\n",
        "\n",
        "\n",
        "\n",
        "\n",
        "\n"
      ],
      "execution_count": 0,
      "outputs": []
    },
    {
      "metadata": {
        "id": "UFjYhtvCcbYt",
        "colab_type": "text"
      },
      "cell_type": "markdown",
      "source": [
        "Bayes teoremini kullanarak P(A/E) olasılığı aşağıdaki gibi bulunur. "
      ]
    },
    {
      "metadata": {
        "id": "yEfqKi5zccWZ",
        "colab_type": "code",
        "colab": {
          "base_uri": "https://localhost:8080/",
          "height": 34
        },
        "outputId": "e99f963c-ebf4-4c8e-b8d3-55eed09ca66c"
      },
      "cell_type": "code",
      "source": [
        "P_A_E=P_AE/(P_AE+P_BE+P_CE)\n",
        "\n",
        "P_A_E"
      ],
      "execution_count": 9,
      "outputs": [
        {
          "output_type": "execute_result",
          "data": {
            "text/plain": [
              "0.15"
            ]
          },
          "metadata": {
            "tags": []
          },
          "execution_count": 9
        }
      ]
    },
    {
      "metadata": {
        "id": "1iGtmqxcdRaF",
        "colab_type": "text"
      },
      "cell_type": "markdown",
      "source": [
        "Benzer şkeilde  P(B/E) ve P(C/E) olasılığı ;\n"
      ]
    },
    {
      "metadata": {
        "id": "fonDHeVndaXV",
        "colab_type": "code",
        "colab": {
          "base_uri": "https://localhost:8080/",
          "height": 34
        },
        "outputId": "5a71e59d-3255-4fee-cc72-226f5cf9f5ec"
      },
      "cell_type": "code",
      "source": [
        "P_B_E=P_BE/(P_AE+P_BE+P_CE)\n",
        "\n",
        "P_B_E"
      ],
      "execution_count": 10,
      "outputs": [
        {
          "output_type": "execute_result",
          "data": {
            "text/plain": [
              "0.44999999999999996"
            ]
          },
          "metadata": {
            "tags": []
          },
          "execution_count": 10
        }
      ]
    },
    {
      "metadata": {
        "id": "slxVR7pddlUK",
        "colab_type": "code",
        "colab": {
          "base_uri": "https://localhost:8080/",
          "height": 34
        },
        "outputId": "190a5166-f5c6-45c7-b81a-619f41342925"
      },
      "cell_type": "code",
      "source": [
        "P_C_E=P_CE/(P_AE+P_BE+P_CE)\n",
        "\n",
        "P_C_E"
      ],
      "execution_count": 11,
      "outputs": [
        {
          "output_type": "execute_result",
          "data": {
            "text/plain": [
              "0.4"
            ]
          },
          "metadata": {
            "tags": []
          },
          "execution_count": 11
        }
      ]
    }
  ]
}